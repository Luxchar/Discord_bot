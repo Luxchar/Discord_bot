{
 "cells": [
  {
   "cell_type": "code",
   "execution_count": null,
   "metadata": {},
   "outputs": [],
   "source": [
    "%pip install nest_asyncio\n",
    "import nest_asyncio\n",
    "nest_asyncio.apply()"
   ]
  },
  {
   "cell_type": "code",
   "execution_count": null,
   "metadata": {},
   "outputs": [],
   "source": [
    "import discord \n",
    "from discord.ext import commands\n",
    "\n",
    "intents = discord.Intents.all()\n",
    "\n",
    "client = commands.Bot(command_prefix=\"/\", intents = intents)\n",
    "\n",
    "@client.command(name=\"del\")\n",
    "async def delete(ctx):\n",
    "    history.push(\"delete\")\n",
    "    await ctx.channel.purge(limit=10)\n",
    "    \n",
    "@client.command(name=\"history_head\")\n",
    "async def print_history_head(ctx):\n",
    "    await ctx.channel.send(history.peek())\n",
    "    \n",
    "@client.command(name=\"history\")\n",
    "async def print_history(ctx):\n",
    "    await ctx.channel.send(history.print())\n",
    "    \n",
    "@client.command(name=\"clear-history\")\n",
    "async def clear_history(ctx):\n",
    "    history = Stack('history:')\n",
    "    await ctx.channel.send(\"History cleared\")\n",
    "\n",
    "@client.event\n",
    "async def on_ready():\n",
    "    print(\"Le bot est prêt !\")\n",
    "\n",
    "@client.event\n",
    "async def on_typing(channel, user, when):\n",
    "     await channel.send(user.name+\" is typing\")\n",
    "\n",
    "@client.event\n",
    "async def on_member_join(member):\n",
    "    general_channel = client.get_channel(977137496720826368)\n",
    "    await general_channel.send(\"Bienvenue sur le serveur ! \"+ member.name)\n",
    "\n",
    "@client.event\n",
    "async def on_message(message):\n",
    "  if message.author == client.user:\n",
    "    return   \n",
    "\n",
    "  if message.content.startswith(\"hello\"):\n",
    "    await message.channel.send(\"hello\")\n",
    "\n",
    "  await client.process_commands(message)\n",
    "\n",
    "client.run(\"MTA5MTI1OTI5MzMxNzIxODMwNA.GK826G.63dgEjpDU6kMt_oa7xLNnjAgonjJOTXVAFddKo\")"
   ]
  }
 ],
 "metadata": {
  "language_info": {
   "name": "python"
  },
  "orig_nbformat": 4
 },
 "nbformat": 4,
 "nbformat_minor": 2
}
