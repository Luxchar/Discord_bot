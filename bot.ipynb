{
 "cells": [
  {
   "cell_type": "code",
   "execution_count": 1,
   "metadata": {},
   "outputs": [],
   "source": [
    "import nest_asyncio # async\n",
    "nest_asyncio.apply()\n",
    "\n",
    "from dotenv import load_dotenv # for .env file\n",
    "import os\n",
    "load_dotenv() # load .env file\n",
    "\n",
    "# Structures for the bot\n",
    "from Structures.stack import Stack\n",
    "from Structures.queue import Queue\n",
    "\n",
    "history = Stack('history:') # history of commands\n",
    "queue = Queue('queue:') # queue of users to access the bot\n",
    "\n",
    "# discord functions\n",
    "import discord \n",
    "from discord.ext import commands\n",
    "\n",
    "intents = discord.Intents.all() # Bot intents (permissions)\n",
    "client = commands.Bot(command_prefix=\"/\", intents = intents) # Bot prefix"
   ]
  },
  {
   "cell_type": "code",
   "execution_count": 2,
   "metadata": {},
   "outputs": [],
   "source": [
    "# QUEUE SETUP\n",
    "async def manage_queue():\n",
    "    await client.wait_until_ready() # wait until the bot is ready\n",
    "    while not client.is_closed(): # while the bot is running\n",
    "        if not queue.isEmpty(): # if the queue is not empty\n",
    "            user = queue.dequeue() # get the first user in the queue\n",
    "            await user\n",
    "        await asyncio.sleep(5)\n",
    "        \n",
    "async def add_to_queue(user):\n",
    "    queue.enqueue(user)\n",
    "    await user.send(\"You have been added to the queue. Please wait for your turn.\")"
   ]
  },
  {
   "cell_type": "code",
   "execution_count": 3,
   "metadata": {},
   "outputs": [
    {
     "ename": "SyntaxError",
     "evalue": "invalid syntax (2331227265.py, line 8)",
     "output_type": "error",
     "traceback": [
      "\u001b[0;36m  Cell \u001b[0;32mIn[3], line 8\u001b[0;36m\u001b[0m\n\u001b[0;31m    else:\u001b[0m\n\u001b[0m    ^\u001b[0m\n\u001b[0;31mSyntaxError\u001b[0m\u001b[0;31m:\u001b[0m invalid syntax\n"
     ]
    }
   ],
   "source": [
    "@client.command(name=\"del\")\n",
    "async def delete(ctx):\n",
    "    if queue.isEmpty():\n",
    "        history.push(\"delete\")\n",
    "        await ctx.channel.purge(limit=10)\n",
    "    else:\n",
    "        await add_to_queue(ctx.author)\n",
    "    \n",
    "@client.command(name=\"history_head\")\n",
    "async def print_history_head(ctx):\n",
    "    await ctx.channel.send(history.peek())\n",
    "    \n",
    "@client.command(name=\"history\")\n",
    "async def print_history_next(ctx):\n",
    "    await ctx.channel.send(history.print())\n",
    "    \n",
    "@client.command(name=\"history_clear\") # NEEDS TEST\n",
    "async def clear_history(ctx):\n",
    "    await ctx.channel.send(history.clear())\n",
    "    \n",
    "@client.command(name=\"history_index\") # NEEDS TEST\n",
    "async def print_history_index(ctx):\n",
    "    await ctx.channel.send(\"Please enter your input:\")\n",
    "    def check(m):\n",
    "        return m.author == ctx.author and m.channel == ctx.channel\n",
    "    msg = await client.wait_for(\"message\", check=check)\n",
    "    if msg.content.isdigit():\n",
    "        await ctx.channel.send(history.print_index(msg.content))\n",
    "    \n",
    "@client.command(name=\"commands\")\n",
    "async def commands(ctx):\n",
    "    await ctx.channel.send(\"Available commands: \\nhistory: get logs of server\\nclear-history: clear commands history\\nhistory_head: print first command of history\\nhistory_index\")\n",
    "\n",
    "@client.event\n",
    "async def on_ready():\n",
    "    print(\"Le bot est prêt !\")\n",
    "\n",
    "@client.event\n",
    "async def on_typing(channel, user, when):\n",
    "     await channel.send(user.name+\" is typing\")\n",
    "\n",
    "@client.event\n",
    "async def on_member_join(member):\n",
    "    general_channel = client.get_channel(977137496720826368)\n",
    "    await general_channel.send(\"Bienvenue sur le serveur ! \"+ member.name)\n",
    "\n",
    "@client.event\n",
    "async def on_message(message):\n",
    "  if message.author == client.user:\n",
    "    return   \n",
    "\n",
    "  if message.content.startswith(\"hello\"):\n",
    "    await message.channel.send(\"hello\")\n",
    "\n",
    "  await client.process_commands(message)"
   ]
  },
  {
   "cell_type": "code",
   "execution_count": null,
   "metadata": {},
   "outputs": [],
   "source": [
    "client.run(os.getenv('BOT_TOKEN'))"
   ]
  }
 ],
 "metadata": {
  "kernelspec": {
   "display_name": "Python 3",
   "language": "python",
   "name": "python3"
  },
  "language_info": {
   "codemirror_mode": {
    "name": "ipython",
    "version": 3
   },
   "file_extension": ".py",
   "mimetype": "text/x-python",
   "name": "python",
   "nbconvert_exporter": "python",
   "pygments_lexer": "ipython3",
   "version": "3.10.10"
  },
  "orig_nbformat": 4
 },
 "nbformat": 4,
 "nbformat_minor": 2
}
