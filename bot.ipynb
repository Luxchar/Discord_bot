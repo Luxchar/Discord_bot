{
 "cells": [
  {
   "cell_type": "code",
   "execution_count": 46,
   "metadata": {},
   "outputs": [
    {
     "name": "stdout",
     "output_type": "stream",
     "text": [
      "Defaulting to user installation because normal site-packages is not writeable\n",
      "Requirement already satisfied: nest_asyncio in /home/lux/.local/lib/python3.10/site-packages (1.5.6)\n",
      "Note: you may need to restart the kernel to use updated packages.\n"
     ]
    }
   ],
   "source": [
    "%pip install nest_asyncio\n",
    "import nest_asyncio\n",
    "nest_asyncio.apply()"
   ]
  },
  {
   "cell_type": "code",
   "execution_count": 1,
   "metadata": {},
   "outputs": [
    {
     "ename": "ModuleNotFoundError",
     "evalue": "No module named 'tree_node'",
     "output_type": "error",
     "traceback": [
      "\u001b[0;31m---------------------------------------------------------------------------\u001b[0m",
      "\u001b[0;31mModuleNotFoundError\u001b[0m                       Traceback (most recent call last)",
      "Cell \u001b[0;32mIn[1], line 2\u001b[0m\n\u001b[1;32m      1\u001b[0m \u001b[39mfrom\u001b[39;00m \u001b[39mstructures\u001b[39;00m\u001b[39m.\u001b[39;00m\u001b[39mtree_node\u001b[39;00m \u001b[39mimport\u001b[39;00m \u001b[39m*\u001b[39m\n\u001b[0;32m----> 2\u001b[0m \u001b[39mfrom\u001b[39;00m \u001b[39mstructures\u001b[39;00m\u001b[39m.\u001b[39;00m\u001b[39mstack\u001b[39;00m \u001b[39mimport\u001b[39;00m \u001b[39m*\u001b[39m\n",
      "File \u001b[0;32m~/Documents/Discord_bot/structures/stack.py:1\u001b[0m\n\u001b[0;32m----> 1\u001b[0m \u001b[39mfrom\u001b[39;00m \u001b[39mtree_node\u001b[39;00m \u001b[39mimport\u001b[39;00m Node\n\u001b[1;32m      2\u001b[0m \u001b[39mclass\u001b[39;00m \u001b[39mStack\u001b[39;00m:\n\u001b[1;32m      3\u001b[0m     \u001b[39mdef\u001b[39;00m \u001b[39m__init__\u001b[39m(\u001b[39mself\u001b[39m, data):\n",
      "\u001b[0;31mModuleNotFoundError\u001b[0m: No module named 'tree_node'"
     ]
    }
   ],
   "source": [
    "from structures.tree_node import *\n",
    "from structures.stack import *"
   ]
  },
  {
   "cell_type": "code",
   "execution_count": 2,
   "metadata": {},
   "outputs": [
    {
     "ename": "NameError",
     "evalue": "name 'Stack' is not defined",
     "output_type": "error",
     "traceback": [
      "\u001b[0;31m---------------------------------------------------------------------------\u001b[0m",
      "\u001b[0;31mNameError\u001b[0m                                 Traceback (most recent call last)",
      "Cell \u001b[0;32mIn[2], line 1\u001b[0m\n\u001b[0;32m----> 1\u001b[0m history \u001b[39m=\u001b[39m Stack(\u001b[39m'\u001b[39m\u001b[39mhistory:\u001b[39m\u001b[39m'\u001b[39m)\n",
      "\u001b[0;31mNameError\u001b[0m: name 'Stack' is not defined"
     ]
    }
   ],
   "source": [
    "history = Stack('history:')"
   ]
  },
  {
   "cell_type": "code",
   "execution_count": null,
   "metadata": {},
   "outputs": [
    {
     "ename": "CommandRegistrationError",
     "evalue": "The command help is already an existing command or alias.",
     "output_type": "error",
     "traceback": [
      "\u001b[0;31m---------------------------------------------------------------------------\u001b[0m",
      "\u001b[0;31mCommandRegistrationError\u001b[0m                  Traceback (most recent call last)",
      "Cell \u001b[0;32mIn[31], line 37\u001b[0m\n\u001b[1;32m     32\u001b[0m \u001b[39m@client\u001b[39m\u001b[39m.\u001b[39mcommand(name\u001b[39m=\u001b[39m\u001b[39m\"\u001b[39m\u001b[39mhistory_clear\u001b[39m\u001b[39m\"\u001b[39m) \u001b[39m# NEEDS TEST\u001b[39;00m\n\u001b[1;32m     33\u001b[0m \u001b[39masync\u001b[39;00m \u001b[39mdef\u001b[39;00m \u001b[39mclear_history\u001b[39m(ctx):\n\u001b[1;32m     34\u001b[0m     \u001b[39mawait\u001b[39;00m ctx\u001b[39m.\u001b[39mchannel\u001b[39m.\u001b[39msend(history\u001b[39m.\u001b[39mclear())\n\u001b[1;32m     36\u001b[0m \u001b[39m@client\u001b[39;49m\u001b[39m.\u001b[39;49mcommand(name\u001b[39m=\u001b[39;49m\u001b[39m\"\u001b[39;49m\u001b[39mhelp\u001b[39;49m\u001b[39m\"\u001b[39;49m)\n\u001b[0;32m---> 37\u001b[0m \u001b[39masync\u001b[39;49;00m \u001b[39mdef\u001b[39;49;00m \u001b[39mhelp\u001b[39;49m(ctx):\n\u001b[1;32m     38\u001b[0m     \u001b[39mawait\u001b[39;49;00m ctx\u001b[39m.\u001b[39;49mchannel\u001b[39m.\u001b[39;49msend(\u001b[39m\"\u001b[39;49m\u001b[39mAvailable commands: help: get bot\u001b[39;49m\u001b[39m'\u001b[39;49m\u001b[39ms commands \u001b[39;49m\u001b[39m\\n\u001b[39;49;00m\u001b[39m, history, clear-history, history_head, clear_history, history_index\u001b[39;49m\u001b[39m\"\u001b[39;49m)\n\u001b[1;32m     40\u001b[0m \u001b[39m@client\u001b[39m\u001b[39m.\u001b[39mevent\n\u001b[1;32m     41\u001b[0m \u001b[39masync\u001b[39;00m \u001b[39mdef\u001b[39;00m \u001b[39mon_ready\u001b[39m():\n",
      "File \u001b[0;32m~/.local/lib/python3.10/site-packages/discord/ext/commands/core.py:1513\u001b[0m, in \u001b[0;36mGroupMixin.command.<locals>.decorator\u001b[0;34m(func)\u001b[0m\n\u001b[1;32m   1511\u001b[0m kwargs\u001b[39m.\u001b[39msetdefault(\u001b[39m'\u001b[39m\u001b[39mparent\u001b[39m\u001b[39m'\u001b[39m, \u001b[39mself\u001b[39m)\n\u001b[1;32m   1512\u001b[0m result \u001b[39m=\u001b[39m command(name\u001b[39m=\u001b[39mname, \u001b[39mcls\u001b[39m\u001b[39m=\u001b[39m\u001b[39mcls\u001b[39m, \u001b[39m*\u001b[39margs, \u001b[39m*\u001b[39m\u001b[39m*\u001b[39mkwargs)(func)\n\u001b[0;32m-> 1513\u001b[0m \u001b[39mself\u001b[39;49m\u001b[39m.\u001b[39;49madd_command(result)\n\u001b[1;32m   1514\u001b[0m \u001b[39mreturn\u001b[39;00m result\n",
      "File \u001b[0;32m~/.local/lib/python3.10/site-packages/discord/ext/commands/bot.py:246\u001b[0m, in \u001b[0;36mBotBase.add_command\u001b[0;34m(self, command)\u001b[0m\n\u001b[1;32m    244\u001b[0m \u001b[39m@discord\u001b[39m\u001b[39m.\u001b[39mutils\u001b[39m.\u001b[39mcopy_doc(GroupMixin\u001b[39m.\u001b[39madd_command)\n\u001b[1;32m    245\u001b[0m \u001b[39mdef\u001b[39;00m \u001b[39madd_command\u001b[39m(\u001b[39mself\u001b[39m, command: Command[Any, \u001b[39m.\u001b[39m\u001b[39m.\u001b[39m\u001b[39m.\u001b[39m, Any], \u001b[39m/\u001b[39m) \u001b[39m-\u001b[39m\u001b[39m>\u001b[39m \u001b[39mNone\u001b[39;00m:\n\u001b[0;32m--> 246\u001b[0m     \u001b[39msuper\u001b[39;49m()\u001b[39m.\u001b[39;49madd_command(command)\n\u001b[1;32m    247\u001b[0m     \u001b[39mif\u001b[39;00m \u001b[39misinstance\u001b[39m(command, (HybridCommand, HybridGroup)) \u001b[39mand\u001b[39;00m command\u001b[39m.\u001b[39mapp_command:\n\u001b[1;32m    248\u001b[0m         \u001b[39m# If a cog is also inheriting from app_commands.Group then it'll also\u001b[39;00m\n\u001b[1;32m    249\u001b[0m         \u001b[39m# add the hybrid commands as text commands, which would recursively add the\u001b[39;00m\n\u001b[1;32m    250\u001b[0m         \u001b[39m# hybrid commands as slash commands. This check just terminates that recursion\u001b[39;00m\n\u001b[1;32m    251\u001b[0m         \u001b[39m# from happening\u001b[39;00m\n\u001b[1;32m    252\u001b[0m         \u001b[39mif\u001b[39;00m command\u001b[39m.\u001b[39mcog \u001b[39mis\u001b[39;00m \u001b[39mNone\u001b[39;00m \u001b[39mor\u001b[39;00m \u001b[39mnot\u001b[39;00m command\u001b[39m.\u001b[39mcog\u001b[39m.\u001b[39m__cog_is_app_commands_group__:\n",
      "File \u001b[0;32m~/.local/lib/python3.10/site-packages/discord/ext/commands/core.py:1348\u001b[0m, in \u001b[0;36mGroupMixin.add_command\u001b[0;34m(self, command)\u001b[0m\n\u001b[1;32m   1345\u001b[0m     command\u001b[39m.\u001b[39mparent \u001b[39m=\u001b[39m \u001b[39mself\u001b[39m\n\u001b[1;32m   1347\u001b[0m \u001b[39mif\u001b[39;00m command\u001b[39m.\u001b[39mname \u001b[39min\u001b[39;00m \u001b[39mself\u001b[39m\u001b[39m.\u001b[39mall_commands:\n\u001b[0;32m-> 1348\u001b[0m     \u001b[39mraise\u001b[39;00m CommandRegistrationError(command\u001b[39m.\u001b[39mname)\n\u001b[1;32m   1350\u001b[0m \u001b[39mself\u001b[39m\u001b[39m.\u001b[39mall_commands[command\u001b[39m.\u001b[39mname] \u001b[39m=\u001b[39m command\n\u001b[1;32m   1351\u001b[0m \u001b[39mfor\u001b[39;00m alias \u001b[39min\u001b[39;00m command\u001b[39m.\u001b[39maliases:\n",
      "\u001b[0;31mCommandRegistrationError\u001b[0m: The command help is already an existing command or alias."
     ]
    }
   ],
   "source": [
    "\n",
    "import discord \n",
    "from discord.ext import commands\n",
    "\n",
    "intents = discord.Intents.all()\n",
    "\n",
    "client = commands.Bot(command_prefix=\"/\", intents = intents)\n",
    "\n",
    "history_index = 0\n",
    "\n",
    "@client.command(name=\"del\")\n",
    "async def delete(ctx):\n",
    "    history.push(\"delete\")\n",
    "    await ctx.channel.purge(limit=10)\n",
    "    \n",
    "@client.command(name=\"history_head\")\n",
    "async def print_history_head(ctx):\n",
    "    await ctx.channel.send(history.peek())\n",
    "    \n",
    "@client.command(name=\"history\")\n",
    "async def print_history_next(ctx):\n",
    "    await ctx.channel.send(history.print())\n",
    "    \n",
    "@client.command(name=\"clear_history\")\n",
    "async def clear_history(ctx):\n",
    "    history = Stack('history:')\n",
    "    await ctx.channel.send(\"History cleared\")\n",
    "  \n",
    "@client.command(name=\"history_index\") # NEEDS TEST\n",
    "async def print_history(ctx):\n",
    "    await ctx.channel.send(history.print_index(history_index))\n",
    "    \n",
    "@client.command(name=\"history_clear\") # NEEDS TEST\n",
    "async def clear_history(ctx):\n",
    "    await ctx.channel.send(history.clear())\n",
    "    \n",
    "@client.command(name=\"help\")\n",
    "async def help(ctx):\n",
    "    await ctx.channel.send(\"Available commands: help: get bot's commands \\n, history, clear-history, history_head, clear_history, history_index\")\n",
    "\n",
    "@client.event\n",
    "async def on_ready():\n",
    "    print(\"Le bot est prêt !\")\n",
    "\n",
    "@client.event\n",
    "async def on_typing(channel, user, when):\n",
    "     await channel.send(user.name+\" is typing\")\n",
    "\n",
    "@client.event\n",
    "async def on_member_join(member):\n",
    "    general_channel = client.get_channel(977137496720826368)\n",
    "    await general_channel.send(\"Bienvenue sur le serveur ! \"+ member.name)\n",
    "\n",
    "@client.event\n",
    "async def on_message(message):\n",
    "  if message.author == client.user:\n",
    "    return   \n",
    "\n",
    "  if message.content.startswith(\"hello\"):\n",
    "    await message.channel.send(\"hello\")\n",
    "\n",
    "  await client.process_commands(message)\n",
    "\n",
    "client.run(\"MTA5MTI1OTI5MzMxNzIxODMwNA.GK826G.63dgEjpDU6kMt_oa7xLNnjAgonjJOTXVAFddKo\")"
   ]
  },
  {
   "cell_type": "code",
   "execution_count": null,
   "metadata": {},
   "outputs": [],
   "source": []
  }
 ],
 "metadata": {
  "kernelspec": {
   "display_name": "Python 3",
   "language": "python",
   "name": "python3"
  },
  "language_info": {
   "codemirror_mode": {
    "name": "ipython",
    "version": 3
   },
   "file_extension": ".py",
   "mimetype": "text/x-python",
   "name": "python",
   "nbconvert_exporter": "python",
   "pygments_lexer": "ipython3",
   "version": "3.10.10"
  },
  "orig_nbformat": 4
 },
 "nbformat": 4,
 "nbformat_minor": 2
}
