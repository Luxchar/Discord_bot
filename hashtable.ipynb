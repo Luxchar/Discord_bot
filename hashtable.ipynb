{
 "cells": [
  {
   "cell_type": "code",
   "execution_count": 2,
   "metadata": {},
   "outputs": [],
   "source": [
    "class hashtable_user: \n",
    "  def __init__(self, bucket_size):\n",
    "    self.buckets = []\n",
    "    for i in range(bucket_size):\n",
    "      self.buckets.append([])\n",
    "\n",
    "  def append(self,key,value): # append(\"coucou\",3)\n",
    "    hash_key = hash(key)\n",
    "    indice_bucket = hash_key % len(self.buckets)\n",
    "    self.buckets[indice_bucket].append((key,value))\n",
    "\n",
    "  def get(self, key):\n",
    "    hash_key = hash(key)\n",
    "    indice_bucket = hash_key % len(self.buckets)\n",
    "    for k,v in self.buckets[indice_bucket]:\n",
    "      if k == key:\n",
    "        return v\n",
    "    return None"
   ]
  },
  {
   "cell_type": "code",
   "execution_count": null,
   "metadata": {},
   "outputs": [],
   "source": [
    "class Hashtable:\n",
    "    def __init__(self, elements):\n",
    "        self.bucket_size = len(elements)\n",
    "        self.buckets = [[] for i in range(self.bucket_size)]\n",
    "        self._assign_buckets(elements)\n",
    "\n",
    "    def _assign_buckets(self, elements):\n",
    "        for key, value in elements:\n",
    "            hashed_value = hash(key)\n",
    "            index = hashed_value % self.bucket_size\n",
    "            self.buckets[index].append((key, value))\n",
    "\n",
    "    def get_value(self, input_key):\n",
    "        hashed_value = hash(input_key)\n",
    "        index = hashed_value % self.bucket_size\n",
    "        bucket = self.buckets[index]\n",
    "        for key, value in bucket:\n",
    "            if key == input_key:\n",
    "                return(value)\n",
    "        return None\n",
    "\n",
    "capitals = [\n",
    "  ('France', 'Paris'),\n",
    "  ('United States', 'Washington D.C.'),\n",
    "  ('Italy', 'Rome'),\n",
    "  ('Canada', 'Ottawa')\n",
    "]\n",
    "hashtable = Hashtable(capitals)\n",
    "\n",
    "print(f\"The capital of Italy is {hashtable.get_value('Italy')}\")"
   ]
  },
  {
   "cell_type": "code",
   "execution_count": null,
   "metadata": {},
   "outputs": [],
   "source": []
  }
 ],
 "metadata": {
  "kernelspec": {
   "display_name": "Python 3",
   "language": "python",
   "name": "python3"
  },
  "language_info": {
   "codemirror_mode": {
    "name": "ipython",
    "version": 3
   },
   "file_extension": ".py",
   "mimetype": "text/x-python",
   "name": "python",
   "nbconvert_exporter": "python",
   "pygments_lexer": "ipython3",
   "version": "3.10.10"
  },
  "orig_nbformat": 4
 },
 "nbformat": 4,
 "nbformat_minor": 2
}
