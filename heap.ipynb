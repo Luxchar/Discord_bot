{
 "cells": [
  {
   "cell_type": "code",
   "execution_count": 1,
   "metadata": {},
   "outputs": [],
   "source": [
    "class Heap: # heap is a complete binary tree \n",
    "    def __init__(self, data):\n",
    "        self.head = Node(data)\n",
    "        self.tail = Node(data)\n",
    "        \n",
    "    def append(self, data):\n",
    "        self.tail.next = data\n",
    "        \n",
    "        \n",
    "    def pop():\n",
    "        value = self.head\n",
    "        self.head = self.head.next\n",
    "        return value\n",
    "    "
   ]
  },
  {
   "cell_type": "code",
   "execution_count": null,
   "metadata": {},
   "outputs": [],
   "source": []
  }
 ],
 "metadata": {
  "kernelspec": {
   "display_name": "Python 3",
   "language": "python",
   "name": "python3"
  },
  "language_info": {
   "codemirror_mode": {
    "name": "ipython",
    "version": 3
   },
   "file_extension": ".py",
   "mimetype": "text/x-python",
   "name": "python",
   "nbconvert_exporter": "python",
   "pygments_lexer": "ipython3",
   "version": "3.10.10"
  },
  "orig_nbformat": 4
 },
 "nbformat": 4,
 "nbformat_minor": 2
}
