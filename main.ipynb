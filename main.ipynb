{
 "cells": [
  {
   "cell_type": "code",
   "execution_count": 124,
   "metadata": {},
   "outputs": [],
   "source": [
    "import nest_asyncio # async\n",
    "nest_asyncio.apply()\n",
    "\n",
    "from dotenv import load_dotenv # for .env file\n",
    "import os\n",
    "load_dotenv() # load .env file\n",
    "\n",
    "# discord functions\n",
    "import discord \n",
    "from discord.ext import commands\n",
    "\n",
    "intents = discord.Intents.all() # Bot intents (permissions)\n",
    "client = commands.Bot(command_prefix=\"!\", intents = intents) # Bot prefix\n",
    "\n",
    "from commands.help import Help\n",
    "\n",
    "async def setup(client):\n",
    "    client.help_command = Help()\n",
    "    \n",
    "await setup(client)"
   ]
  },
  {
   "cell_type": "code",
   "execution_count": 125,
   "metadata": {},
   "outputs": [],
   "source": [
    "@client.event\n",
    "async def on_ready():\n",
    "    for filename in os.listdir(\"./commands\"):\n",
    "        if filename.endswith(\".py\"):\n",
    "            await client.load_extension(f\"commands.{filename[:-3]}\")"
   ]
  },
  {
   "cell_type": "code",
   "execution_count": 126,
   "metadata": {},
   "outputs": [
    {
     "name": "stderr",
     "output_type": "stream",
     "text": [
      "[2023-05-15 01:09:48] [INFO    ] discord.client: logging in using static token\n",
      "[2023-05-15 01:09:48] [INFO    ] discord.client: logging in using static token\n",
      "[2023-05-15 01:09:48] [INFO    ] discord.client: logging in using static token\n",
      "[2023-05-15 01:09:48] [INFO    ] discord.client: logging in using static token\n",
      "[2023-05-15 01:09:48] [INFO    ] discord.client: logging in using static token\n",
      "[2023-05-15 01:09:48] [INFO    ] discord.client: logging in using static token\n",
      "[2023-05-15 01:09:48] [INFO    ] discord.client: logging in using static token\n",
      "[2023-05-15 01:09:48] [INFO    ] discord.client: logging in using static token\n",
      "[2023-05-15 01:09:48] [INFO    ] discord.client: logging in using static token\n",
      "[2023-05-15 01:09:48] [INFO    ] discord.client: logging in using static token\n",
      "[2023-05-15 01:09:48] [INFO    ] discord.client: logging in using static token\n",
      "[2023-05-15 01:09:48] [INFO    ] discord.client: logging in using static token\n",
      "[2023-05-15 01:09:48] [INFO    ] discord.client: logging in using static token\n",
      "[2023-05-15 01:09:48] [INFO    ] discord.client: logging in using static token\n",
      "[2023-05-15 01:09:48] [INFO    ] discord.client: logging in using static token\n",
      "[2023-05-15 01:09:48] [INFO    ] discord.client: logging in using static token\n",
      "[2023-05-15 01:09:48] [INFO    ] discord.client: logging in using static token\n",
      "[2023-05-15 01:09:48] [INFO    ] discord.client: logging in using static token\n",
      "[2023-05-15 01:09:48] [INFO    ] discord.client: logging in using static token\n",
      "[2023-05-15 01:09:48] [INFO    ] discord.client: logging in using static token\n",
      "[2023-05-15 01:09:48] [INFO    ] discord.client: logging in using static token\n",
      "[2023-05-15 01:09:48] [INFO    ] discord.client: logging in using static token\n",
      "[2023-05-15 01:09:48] [INFO    ] discord.client: logging in using static token\n",
      "[2023-05-15 01:09:48] [INFO    ] discord.client: logging in using static token\n",
      "[2023-05-15 01:09:48] [INFO    ] discord.client: logging in using static token\n",
      "[2023-05-15 01:09:48] [INFO    ] discord.client: logging in using static token\n",
      "[2023-05-15 01:09:48] [INFO    ] discord.client: logging in using static token\n",
      "[2023-05-15 01:09:48] [INFO    ] discord.client: logging in using static token\n",
      "[2023-05-15 01:09:48] [INFO    ] discord.client: logging in using static token\n",
      "[2023-05-15 01:09:48] [INFO    ] discord.client: logging in using static token\n",
      "[2023-05-15 01:09:48] [INFO    ] discord.client: logging in using static token\n",
      "[2023-05-15 01:09:48] [INFO    ] discord.client: logging in using static token\n",
      "[2023-05-15 01:09:48] [INFO    ] discord.client: logging in using static token\n",
      "[2023-05-15 01:09:48] [INFO    ] discord.client: logging in using static token\n",
      "[2023-05-15 01:09:48] [INFO    ] discord.client: logging in using static token\n",
      "[2023-05-15 01:09:48] [INFO    ] discord.client: logging in using static token\n",
      "[2023-05-15 01:09:48] [INFO    ] discord.client: logging in using static token\n",
      "[2023-05-15 01:09:48] [INFO    ] discord.client: logging in using static token\n",
      "[2023-05-15 01:09:48] [INFO    ] discord.client: logging in using static token\n",
      "[2023-05-15 01:09:48] [INFO    ] discord.client: logging in using static token\n",
      "[2023-05-15 01:09:48] [INFO    ] discord.client: logging in using static token\n",
      "[2023-05-15 01:09:48] [INFO    ] discord.client: logging in using static token\n",
      "[2023-05-15 01:09:49] [INFO    ] discord.gateway: Shard ID None has connected to Gateway (Session ID: 6cc99704ebb8ae1642cc8e03644068ce).\n",
      "[2023-05-15 01:09:49] [INFO    ] discord.gateway: Shard ID None has connected to Gateway (Session ID: 6cc99704ebb8ae1642cc8e03644068ce).\n",
      "[2023-05-15 01:09:49] [INFO    ] discord.gateway: Shard ID None has connected to Gateway (Session ID: 6cc99704ebb8ae1642cc8e03644068ce).\n",
      "[2023-05-15 01:09:49] [INFO    ] discord.gateway: Shard ID None has connected to Gateway (Session ID: 6cc99704ebb8ae1642cc8e03644068ce).\n",
      "[2023-05-15 01:09:49] [INFO    ] discord.gateway: Shard ID None has connected to Gateway (Session ID: 6cc99704ebb8ae1642cc8e03644068ce).\n",
      "[2023-05-15 01:09:49] [INFO    ] discord.gateway: Shard ID None has connected to Gateway (Session ID: 6cc99704ebb8ae1642cc8e03644068ce).\n",
      "[2023-05-15 01:09:49] [INFO    ] discord.gateway: Shard ID None has connected to Gateway (Session ID: 6cc99704ebb8ae1642cc8e03644068ce).\n",
      "[2023-05-15 01:09:49] [INFO    ] discord.gateway: Shard ID None has connected to Gateway (Session ID: 6cc99704ebb8ae1642cc8e03644068ce).\n",
      "[2023-05-15 01:09:49] [INFO    ] discord.gateway: Shard ID None has connected to Gateway (Session ID: 6cc99704ebb8ae1642cc8e03644068ce).\n",
      "[2023-05-15 01:09:49] [INFO    ] discord.gateway: Shard ID None has connected to Gateway (Session ID: 6cc99704ebb8ae1642cc8e03644068ce).\n",
      "[2023-05-15 01:09:49] [INFO    ] discord.gateway: Shard ID None has connected to Gateway (Session ID: 6cc99704ebb8ae1642cc8e03644068ce).\n",
      "[2023-05-15 01:09:49] [INFO    ] discord.gateway: Shard ID None has connected to Gateway (Session ID: 6cc99704ebb8ae1642cc8e03644068ce).\n",
      "[2023-05-15 01:09:49] [INFO    ] discord.gateway: Shard ID None has connected to Gateway (Session ID: 6cc99704ebb8ae1642cc8e03644068ce).\n",
      "[2023-05-15 01:09:49] [INFO    ] discord.gateway: Shard ID None has connected to Gateway (Session ID: 6cc99704ebb8ae1642cc8e03644068ce).\n",
      "[2023-05-15 01:09:49] [INFO    ] discord.gateway: Shard ID None has connected to Gateway (Session ID: 6cc99704ebb8ae1642cc8e03644068ce).\n",
      "[2023-05-15 01:09:49] [INFO    ] discord.gateway: Shard ID None has connected to Gateway (Session ID: 6cc99704ebb8ae1642cc8e03644068ce).\n",
      "[2023-05-15 01:09:49] [INFO    ] discord.gateway: Shard ID None has connected to Gateway (Session ID: 6cc99704ebb8ae1642cc8e03644068ce).\n",
      "[2023-05-15 01:09:49] [INFO    ] discord.gateway: Shard ID None has connected to Gateway (Session ID: 6cc99704ebb8ae1642cc8e03644068ce).\n",
      "[2023-05-15 01:09:49] [INFO    ] discord.gateway: Shard ID None has connected to Gateway (Session ID: 6cc99704ebb8ae1642cc8e03644068ce).\n",
      "[2023-05-15 01:09:49] [INFO    ] discord.gateway: Shard ID None has connected to Gateway (Session ID: 6cc99704ebb8ae1642cc8e03644068ce).\n",
      "[2023-05-15 01:09:49] [INFO    ] discord.gateway: Shard ID None has connected to Gateway (Session ID: 6cc99704ebb8ae1642cc8e03644068ce).\n",
      "[2023-05-15 01:09:49] [INFO    ] discord.gateway: Shard ID None has connected to Gateway (Session ID: 6cc99704ebb8ae1642cc8e03644068ce).\n",
      "[2023-05-15 01:09:49] [INFO    ] discord.gateway: Shard ID None has connected to Gateway (Session ID: 6cc99704ebb8ae1642cc8e03644068ce).\n",
      "[2023-05-15 01:09:49] [INFO    ] discord.gateway: Shard ID None has connected to Gateway (Session ID: 6cc99704ebb8ae1642cc8e03644068ce).\n",
      "[2023-05-15 01:09:49] [INFO    ] discord.gateway: Shard ID None has connected to Gateway (Session ID: 6cc99704ebb8ae1642cc8e03644068ce).\n",
      "[2023-05-15 01:09:49] [INFO    ] discord.gateway: Shard ID None has connected to Gateway (Session ID: 6cc99704ebb8ae1642cc8e03644068ce).\n",
      "[2023-05-15 01:09:49] [INFO    ] discord.gateway: Shard ID None has connected to Gateway (Session ID: 6cc99704ebb8ae1642cc8e03644068ce).\n",
      "[2023-05-15 01:09:49] [INFO    ] discord.gateway: Shard ID None has connected to Gateway (Session ID: 6cc99704ebb8ae1642cc8e03644068ce).\n",
      "[2023-05-15 01:09:49] [INFO    ] discord.gateway: Shard ID None has connected to Gateway (Session ID: 6cc99704ebb8ae1642cc8e03644068ce).\n",
      "[2023-05-15 01:09:49] [INFO    ] discord.gateway: Shard ID None has connected to Gateway (Session ID: 6cc99704ebb8ae1642cc8e03644068ce).\n",
      "[2023-05-15 01:09:49] [INFO    ] discord.gateway: Shard ID None has connected to Gateway (Session ID: 6cc99704ebb8ae1642cc8e03644068ce).\n",
      "[2023-05-15 01:09:49] [INFO    ] discord.gateway: Shard ID None has connected to Gateway (Session ID: 6cc99704ebb8ae1642cc8e03644068ce).\n",
      "[2023-05-15 01:09:49] [INFO    ] discord.gateway: Shard ID None has connected to Gateway (Session ID: 6cc99704ebb8ae1642cc8e03644068ce).\n",
      "[2023-05-15 01:09:49] [INFO    ] discord.gateway: Shard ID None has connected to Gateway (Session ID: 6cc99704ebb8ae1642cc8e03644068ce).\n",
      "[2023-05-15 01:09:49] [INFO    ] discord.gateway: Shard ID None has connected to Gateway (Session ID: 6cc99704ebb8ae1642cc8e03644068ce).\n",
      "[2023-05-15 01:09:49] [INFO    ] discord.gateway: Shard ID None has connected to Gateway (Session ID: 6cc99704ebb8ae1642cc8e03644068ce).\n",
      "[2023-05-15 01:09:49] [INFO    ] discord.gateway: Shard ID None has connected to Gateway (Session ID: 6cc99704ebb8ae1642cc8e03644068ce).\n",
      "[2023-05-15 01:09:49] [INFO    ] discord.gateway: Shard ID None has connected to Gateway (Session ID: 6cc99704ebb8ae1642cc8e03644068ce).\n",
      "[2023-05-15 01:09:49] [INFO    ] discord.gateway: Shard ID None has connected to Gateway (Session ID: 6cc99704ebb8ae1642cc8e03644068ce).\n",
      "[2023-05-15 01:09:49] [INFO    ] discord.gateway: Shard ID None has connected to Gateway (Session ID: 6cc99704ebb8ae1642cc8e03644068ce).\n",
      "[2023-05-15 01:09:49] [INFO    ] discord.gateway: Shard ID None has connected to Gateway (Session ID: 6cc99704ebb8ae1642cc8e03644068ce).\n",
      "[2023-05-15 01:09:49] [INFO    ] discord.gateway: Shard ID None has connected to Gateway (Session ID: 6cc99704ebb8ae1642cc8e03644068ce).\n"
     ]
    }
   ],
   "source": [
    "client.run(os.getenv('BOT_TOKEN'))"
   ]
  },
  {
   "attachments": {},
   "cell_type": "markdown",
   "metadata": {},
   "source": [
    "# hashtable tree\n",
    "# store data"
   ]
  }
 ],
 "metadata": {
  "kernelspec": {
   "display_name": "Python 3",
   "language": "python",
   "name": "python3"
  },
  "language_info": {
   "codemirror_mode": {
    "name": "ipython",
    "version": 3
   },
   "file_extension": ".py",
   "mimetype": "text/x-python",
   "name": "python",
   "nbconvert_exporter": "python",
   "pygments_lexer": "ipython3",
   "version": "3.11.3"
  },
  "orig_nbformat": 4
 },
 "nbformat": 4,
 "nbformat_minor": 2
}
