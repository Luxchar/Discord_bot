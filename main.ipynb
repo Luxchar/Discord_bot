{
 "cells": [
  {
   "cell_type": "code",
   "execution_count": 52,
   "metadata": {},
   "outputs": [
    {
     "name": "stdout",
     "output_type": "stream",
     "text": [
      "Defaulting to user installation because normal site-packages is not writeable\n",
      "Requirement already satisfied: nest_asyncio in /home/lux/.local/lib/python3.10/site-packages (1.5.6)\n",
      "Note: you may need to restart the kernel to use updated packages.\n"
     ]
    }
   ],
   "source": [
    "%pip install nest_asyncio\n",
    "import nest_asyncio\n",
    "nest_asyncio.apply()"
   ]
  },
  {
   "cell_type": "code",
   "execution_count": 53,
   "metadata": {},
   "outputs": [],
   "source": [
    "class Stack:\n",
    "    def __init__(self, data):\n",
    "        self.head = Node(data)\n",
    "        \n",
    "    def push(self, data): # add to the top of the stack\n",
    "        new_node = Node(data)\n",
    "        new_node.next = self.head\n",
    "        self.head = new_node\n",
    "        \n",
    "    def pop(self): # remove from the top of the stack\n",
    "        if self.head is None:\n",
    "            return None\n",
    "        popped = self.head\n",
    "        self.head = self.head.next\n",
    "        return popped.data\n",
    "    \n",
    "    def size(self): # return the size of the stack\n",
    "        current = self.head\n",
    "        count = 0\n",
    "        while current:\n",
    "            count += 1\n",
    "            current = current.next\n",
    "        return count\n",
    "    \n",
    "    def peek(self): # return the top of the stack\n",
    "        if self.head is None:\n",
    "            return None\n",
    "        return self.head.data\n",
    "    \n",
    "    def print(self): # print the stack\n",
    "        current = self.head\n",
    "        data = []\n",
    "        while current:\n",
    "            data.append(current.data)\n",
    "            current = current.next\n",
    "        return '\\n'.join(data)\n",
    "        \n",
    "class Node:\n",
    "    def __init__(self, data):\n",
    "        self.data = data\n",
    "        self.next = None"
   ]
  },
  {
   "cell_type": "code",
   "execution_count": 54,
   "metadata": {},
   "outputs": [],
   "source": [
    "history = Stack('history:')"
   ]
  },
  {
   "cell_type": "code",
   "execution_count": 55,
   "metadata": {},
   "outputs": [
    {
     "name": "stderr",
     "output_type": "stream",
     "text": [
      "/home/lux/.local/lib/python3.10/site-packages/executing/executing.py:605: RuntimeWarning: coroutine 'Client.run.<locals>.runner' was never awaited\n",
      "  return compile(\n",
      "RuntimeWarning: Enable tracemalloc to get the object allocation traceback\n"
     ]
    },
    {
     "ename": "TypeError",
     "evalue": "Command signature requires at least 0 parameter(s)",
     "output_type": "error",
     "traceback": [
      "\u001b[0;31m---------------------------------------------------------------------------\u001b[0m",
      "\u001b[0;31mTypeError\u001b[0m                                 Traceback (most recent call last)",
      "Cell \u001b[0;32mIn[55], line 24\u001b[0m\n\u001b[1;32m     17\u001b[0m \u001b[39m@client\u001b[39m\u001b[39m.\u001b[39mcommand(name\u001b[39m=\u001b[39m\u001b[39m\"\u001b[39m\u001b[39mhistory\u001b[39m\u001b[39m\"\u001b[39m)\n\u001b[1;32m     18\u001b[0m \u001b[39masync\u001b[39;00m \u001b[39mdef\u001b[39;00m \u001b[39mprint_history\u001b[39m(ctx):\n\u001b[1;32m     19\u001b[0m     \u001b[39mawait\u001b[39;00m ctx\u001b[39m.\u001b[39mchannel\u001b[39m.\u001b[39msend(history\u001b[39m.\u001b[39mprint())\n\u001b[1;32m     21\u001b[0m \u001b[39m@client\u001b[39;49m\u001b[39m.\u001b[39;49mcommand(name\u001b[39m=\u001b[39;49m\u001b[39m\"\u001b[39;49m\u001b[39mclear-history\u001b[39;49m\u001b[39m\"\u001b[39;49m)\n\u001b[1;32m     22\u001b[0m \n\u001b[1;32m     23\u001b[0m \u001b[39m@client\u001b[39;49m\u001b[39m.\u001b[39;49mevent\n\u001b[0;32m---> 24\u001b[0m \u001b[39masync\u001b[39;49;00m \u001b[39mdef\u001b[39;49;00m \u001b[39mon_ready\u001b[39;49m():\n\u001b[1;32m     25\u001b[0m     \u001b[39mprint\u001b[39;49m(\u001b[39m\"\u001b[39;49m\u001b[39mLe bot est prêt !\u001b[39;49m\u001b[39m\"\u001b[39;49m)\n\u001b[1;32m     27\u001b[0m \u001b[39m@client\u001b[39m\u001b[39m.\u001b[39mevent\n\u001b[1;32m     28\u001b[0m \u001b[39masync\u001b[39;00m \u001b[39mdef\u001b[39;00m \u001b[39mon_typing\u001b[39m(channel, user, when):\n",
      "File \u001b[0;32m~/.local/lib/python3.10/site-packages/discord/ext/commands/core.py:1512\u001b[0m, in \u001b[0;36mGroupMixin.command.<locals>.decorator\u001b[0;34m(func)\u001b[0m\n\u001b[1;32m   1509\u001b[0m \u001b[39mdef\u001b[39;00m \u001b[39mdecorator\u001b[39m(func):\n\u001b[1;32m   1511\u001b[0m     kwargs\u001b[39m.\u001b[39msetdefault(\u001b[39m'\u001b[39m\u001b[39mparent\u001b[39m\u001b[39m'\u001b[39m, \u001b[39mself\u001b[39m)\n\u001b[0;32m-> 1512\u001b[0m     result \u001b[39m=\u001b[39m command(name\u001b[39m=\u001b[39;49mname, \u001b[39mcls\u001b[39;49m\u001b[39m=\u001b[39;49m\u001b[39mcls\u001b[39;49m, \u001b[39m*\u001b[39;49margs, \u001b[39m*\u001b[39;49m\u001b[39m*\u001b[39;49mkwargs)(func)\n\u001b[1;32m   1513\u001b[0m     \u001b[39mself\u001b[39m\u001b[39m.\u001b[39madd_command(result)\n\u001b[1;32m   1514\u001b[0m     \u001b[39mreturn\u001b[39;00m result\n",
      "File \u001b[0;32m~/.local/lib/python3.10/site-packages/discord/ext/commands/core.py:1785\u001b[0m, in \u001b[0;36mcommand.<locals>.decorator\u001b[0;34m(func)\u001b[0m\n\u001b[1;32m   1783\u001b[0m \u001b[39mif\u001b[39;00m \u001b[39misinstance\u001b[39m(func, Command):\n\u001b[1;32m   1784\u001b[0m     \u001b[39mraise\u001b[39;00m \u001b[39mTypeError\u001b[39;00m(\u001b[39m'\u001b[39m\u001b[39mCallback is already a command.\u001b[39m\u001b[39m'\u001b[39m)\n\u001b[0;32m-> 1785\u001b[0m \u001b[39mreturn\u001b[39;00m \u001b[39mcls\u001b[39;49m(func, name\u001b[39m=\u001b[39;49mname, \u001b[39m*\u001b[39;49m\u001b[39m*\u001b[39;49mattrs)\n",
      "File \u001b[0;32m~/.local/lib/python3.10/site-packages/discord/ext/commands/core.py:400\u001b[0m, in \u001b[0;36mCommand.__init__\u001b[0;34m(self, func, **kwargs)\u001b[0m\n\u001b[1;32m    397\u001b[0m     \u001b[39mraise\u001b[39;00m \u001b[39mTypeError\u001b[39;00m(\u001b[39m'\u001b[39m\u001b[39mName of a command must be a string.\u001b[39m\u001b[39m'\u001b[39m)\n\u001b[1;32m    398\u001b[0m \u001b[39mself\u001b[39m\u001b[39m.\u001b[39mname: \u001b[39mstr\u001b[39m \u001b[39m=\u001b[39m name\n\u001b[0;32m--> 400\u001b[0m \u001b[39mself\u001b[39;49m\u001b[39m.\u001b[39;49mcallback \u001b[39m=\u001b[39m func\n\u001b[1;32m    401\u001b[0m \u001b[39mself\u001b[39m\u001b[39m.\u001b[39menabled: \u001b[39mbool\u001b[39m \u001b[39m=\u001b[39m kwargs\u001b[39m.\u001b[39mget(\u001b[39m'\u001b[39m\u001b[39menabled\u001b[39m\u001b[39m'\u001b[39m, \u001b[39mTrue\u001b[39;00m)\n\u001b[1;32m    403\u001b[0m help_doc \u001b[39m=\u001b[39m kwargs\u001b[39m.\u001b[39mget(\u001b[39m'\u001b[39m\u001b[39mhelp\u001b[39m\u001b[39m'\u001b[39m)\n",
      "File \u001b[0;32m~/.local/lib/python3.10/site-packages/discord/ext/commands/core.py:507\u001b[0m, in \u001b[0;36mCommand.callback\u001b[0;34m(self, function)\u001b[0m\n\u001b[1;32m    504\u001b[0m \u001b[39mexcept\u001b[39;00m \u001b[39mAttributeError\u001b[39;00m:\n\u001b[1;32m    505\u001b[0m     globalns \u001b[39m=\u001b[39m {}\n\u001b[0;32m--> 507\u001b[0m \u001b[39mself\u001b[39m\u001b[39m.\u001b[39mparams: Dict[\u001b[39mstr\u001b[39m, Parameter] \u001b[39m=\u001b[39m get_signature_parameters(function, globalns)\n",
      "File \u001b[0;32m~/.local/lib/python3.10/site-packages/discord/ext/commands/core.py:130\u001b[0m, in \u001b[0;36mget_signature_parameters\u001b[0;34m(function, globalns, skip_parameters)\u001b[0m\n\u001b[1;32m    128\u001b[0m required_params \u001b[39m=\u001b[39m discord\u001b[39m.\u001b[39mutils\u001b[39m.\u001b[39mis_inside_class(function) \u001b[39m+\u001b[39m \u001b[39m1\u001b[39m \u001b[39mif\u001b[39;00m skip_parameters \u001b[39mis\u001b[39;00m \u001b[39mNone\u001b[39;00m \u001b[39melse\u001b[39;00m skip_parameters\n\u001b[1;32m    129\u001b[0m \u001b[39mif\u001b[39;00m \u001b[39mlen\u001b[39m(signature\u001b[39m.\u001b[39mparameters) \u001b[39m<\u001b[39m required_params:\n\u001b[0;32m--> 130\u001b[0m     \u001b[39mraise\u001b[39;00m \u001b[39mTypeError\u001b[39;00m(\u001b[39mf\u001b[39m\u001b[39m'\u001b[39m\u001b[39mCommand signature requires at least \u001b[39m\u001b[39m{\u001b[39;00mrequired_params\u001b[39m \u001b[39m\u001b[39m-\u001b[39m\u001b[39m \u001b[39m\u001b[39m1\u001b[39m\u001b[39m}\u001b[39;00m\u001b[39m parameter(s)\u001b[39m\u001b[39m'\u001b[39m)\n\u001b[1;32m    132\u001b[0m iterator \u001b[39m=\u001b[39m \u001b[39miter\u001b[39m(signature\u001b[39m.\u001b[39mparameters\u001b[39m.\u001b[39mitems())\n\u001b[1;32m    133\u001b[0m \u001b[39mfor\u001b[39;00m _ \u001b[39min\u001b[39;00m \u001b[39mrange\u001b[39m(\u001b[39m0\u001b[39m, required_params):\n",
      "\u001b[0;31mTypeError\u001b[0m: Command signature requires at least 0 parameter(s)"
     ]
    }
   ],
   "source": [
    "import discord \n",
    "from discord.ext import commands\n",
    "\n",
    "intents = discord.Intents.all()\n",
    "\n",
    "client = commands.Bot(command_prefix=\"/\", intents = intents)\n",
    "\n",
    "@client.command(name=\"del\")\n",
    "async def delete(ctx):\n",
    "    history.push(\"delete\")\n",
    "    await ctx.channel.purge(limit=10)\n",
    "    \n",
    "@client.command(name=\"history_head\")\n",
    "async def print_history_head(ctx):\n",
    "    await ctx.channel.send(history.peek())\n",
    "    \n",
    "@client.command(name=\"history\")\n",
    "async def print_history(ctx):\n",
    "    await ctx.channel.send(history.print())\n",
    "    \n",
    "@client.command(name=\"clear-history\")\n",
    "async def clear_history(ctx):\n",
    "    history = Stack('history:')\n",
    "    await ctx.channel.send(\"History cleared\")\n",
    "\n",
    "@client.event\n",
    "async def on_ready():\n",
    "    print(\"Le bot est prêt !\")\n",
    "\n",
    "@client.event\n",
    "async def on_typing(channel, user, when):\n",
    "     await channel.send(user.name+\" is typing\")\n",
    "\n",
    "@client.event\n",
    "async def on_member_join(member):\n",
    "    general_channel = client.get_channel(977137496720826368)\n",
    "    await general_channel.send(\"Bienvenue sur le serveur ! \"+ member.name)\n",
    "\n",
    "@client.event\n",
    "async def on_message(message):\n",
    "  if message.author == client.user:\n",
    "    return   \n",
    "\n",
    "  if message.content.startswith(\"hello\"):\n",
    "    await message.channel.send(\"hello\")\n",
    "\n",
    "  await client.process_commands(message)\n",
    "\n",
    "client.run(\"MTA5MTI1OTI5MzMxNzIxODMwNA.GK826G.63dgEjpDU6kMt_oa7xLNnjAgonjJOTXVAFddKo\")"
   ]
  },
  {
   "cell_type": "code",
   "execution_count": null,
   "metadata": {},
   "outputs": [],
   "source": []
  }
 ],
 "metadata": {
  "kernelspec": {
   "display_name": "Python 3",
   "language": "python",
   "name": "python3"
  },
  "language_info": {
   "codemirror_mode": {
    "name": "ipython",
    "version": 3
   },
   "file_extension": ".py",
   "mimetype": "text/x-python",
   "name": "python",
   "nbconvert_exporter": "python",
   "pygments_lexer": "ipython3",
   "version": "3.10.10"
  },
  "orig_nbformat": 4
 },
 "nbformat": 4,
 "nbformat_minor": 2
}
