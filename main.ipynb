{
 "cells": [
  {
   "cell_type": "code",
   "execution_count": 1,
   "metadata": {},
   "outputs": [
    {
     "name": "stdout",
     "output_type": "stream",
     "text": [
      "Defaulting to user installation because normal site-packages is not writeable\n",
      "Requirement already satisfied: nest_asyncio in /home/lux/.local/lib/python3.10/site-packages (1.5.6)\n",
      "Note: you may need to restart the kernel to use updated packages.\n"
     ]
    }
   ],
   "source": [
    "%pip install nest_asyncio\n",
    "import nest_asyncio\n",
    "nest_asyncio.apply()"
   ]
  },
  {
   "cell_type": "code",
   "execution_count": 5,
   "metadata": {},
   "outputs": [
    {
     "name": "stderr",
     "output_type": "stream",
     "text": [
      "[2023-03-31 10:43:32] [INFO    ] discord.client: logging in using static token\n",
      "[2023-03-31 10:43:32] [INFO    ] discord.client: logging in using static token\n",
      "[2023-03-31 10:43:32] [INFO    ] discord.client: logging in using static token\n",
      "[2023-03-31 10:43:32] [INFO    ] discord.client: logging in using static token\n",
      "[2023-03-31 10:43:33] [INFO    ] discord.gateway: Shard ID None has connected to Gateway (Session ID: eedede9257f751e1785fef3bc6a6757a).\n",
      "[2023-03-31 10:43:33] [INFO    ] discord.gateway: Shard ID None has connected to Gateway (Session ID: eedede9257f751e1785fef3bc6a6757a).\n",
      "[2023-03-31 10:43:33] [INFO    ] discord.gateway: Shard ID None has connected to Gateway (Session ID: eedede9257f751e1785fef3bc6a6757a).\n",
      "[2023-03-31 10:43:33] [INFO    ] discord.gateway: Shard ID None has connected to Gateway (Session ID: eedede9257f751e1785fef3bc6a6757a).\n"
     ]
    }
   ],
   "source": [
    "import discord\n",
    "from discord.ext import commands\n",
    "\n",
    "intents = discord.Intents.all()\n",
    "\n",
    "client = commands.Bot(command_prefix = '!', intents = intents)\n",
    "\n",
    "@client.command(name=\"delete\")\n",
    "async def delete(ctx):\n",
    "    messages = await ctx.channel.history(limit=100)\n",
    "\n",
    "    async for message in messages:\n",
    "        if message.author == client.user:\n",
    "            await message.delete()\n",
    "\n",
    "@client.event\n",
    "async def on_message(message):\n",
    "    if message.author == client.user:\n",
    "        return\n",
    "    if message.content.startswith('!hello'):\n",
    "        await message.channel.send('Hello!')\n",
    "\n",
    "client.run(\"MTA5MTI1OTI5MzMxNzIxODMwNA.GK826G.63dgEjpDU6kMt_oa7xLNnjAgonjJOTXVAFddKo\")"
   ]
  },
  {
   "cell_type": "code",
   "execution_count": null,
   "metadata": {},
   "outputs": [],
   "source": []
  }
 ],
 "metadata": {
  "kernelspec": {
   "display_name": "Python 3",
   "language": "python",
   "name": "python3"
  },
  "language_info": {
   "codemirror_mode": {
    "name": "ipython",
    "version": 3
   },
   "file_extension": ".py",
   "mimetype": "text/x-python",
   "name": "python",
   "nbconvert_exporter": "python",
   "pygments_lexer": "ipython3",
   "version": "3.10.10"
  },
  "orig_nbformat": 4
 },
 "nbformat": 4,
 "nbformat_minor": 2
}
