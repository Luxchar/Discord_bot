{
 "cells": [
  {
   "cell_type": "code",
   "execution_count": 7,
   "metadata": {},
   "outputs": [],
   "source": [
    "class LinkedList:\n",
    "  def __init__(self, data):\n",
    "    self.first_node = Node(data) # On crée le premier noeud\n",
    "    self.last_node = self.first_node\n",
    "\n",
    "  def append(self,data): # Ajoute une data à la fin de la liste\n",
    "    self.last_node.next_node = Node(data) # On crée un nouveau noeud et on le met comme suivant du dernier noeud\n",
    "    self.last_node = self.last_node.next_node # On met à jour le dernier noeud\n",
    "\n",
    "  def size(self): # Renvoie la taille de la liste\n",
    "    count = 0\n",
    "    current_node = self.first_node\n",
    "    while current_node != None:\n",
    "      count += 1\n",
    "      current_node = current_node.next_node\n",
    "    return count\n",
    "\n",
    "  def insert(self, indice, data): #insert une data à un indice précis\n",
    "    current_node = self.first_node # On sauvegarde le premier noeud\n",
    "    \n",
    "    while indice > 0: # On se déplace jusqu'à l'indice précisé\n",
    "      current_node = current_node.next_node # On avance d'un noeud\n",
    "      indice -= 1 # On décrémente l'indice\n",
    "    \n",
    "    current_node.next_node, current_node.next_node.next_node = Node(data), current_node.next_node # On crée un nouveau noeud et on le met comme suivant du noeud courant\n",
    "\n",
    "class Node:\n",
    "  def __init__(self,data):\n",
    "    self.data = data\n",
    "    self.next_node = None"
   ]
  },
  {
   "cell_type": "code",
   "execution_count": 12,
   "metadata": {},
   "outputs": [
    {
     "data": {
      "text/plain": [
       "2"
      ]
     },
     "execution_count": 12,
     "metadata": {},
     "output_type": "execute_result"
    }
   ],
   "source": [
    "l = LinkedList(Node(1))\n",
    "\n",
    "l.append(2)\n",
    "\n",
    "l.append(3)\n",
    "\n",
    "l.size()\n",
    "\n",
    "l.insert(0, 4)\n",
    "\n",
    "l.size()"
   ]
  },
  {
   "cell_type": "code",
   "execution_count": null,
   "metadata": {},
   "outputs": [],
   "source": []
  }
 ],
 "metadata": {
  "kernelspec": {
   "display_name": "Python 3",
   "language": "python",
   "name": "python3"
  },
  "language_info": {
   "codemirror_mode": {
    "name": "ipython",
    "version": 3
   },
   "file_extension": ".py",
   "mimetype": "text/x-python",
   "name": "python",
   "nbconvert_exporter": "python",
   "pygments_lexer": "ipython3",
   "version": "3.10.10"
  },
  "orig_nbformat": 4,
  "vscode": {
   "interpreter": {
    "hash": "d2152fd7f0bbc62aa1baff8c990435d1e2c7175d001561303988032604c11a48"
   }
  }
 },
 "nbformat": 4,
 "nbformat_minor": 2
}
