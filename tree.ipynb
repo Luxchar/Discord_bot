{
 "cells": [
  {
   "cell_type": "code",
   "execution_count": 2,
   "metadata": {},
   "outputs": [],
   "source": [
    "class node_tree: \n",
    "  def __init__(self, question, reponses):\n",
    "    self.question = question\n",
    "    self.reponses = reponses\n",
    "    self.next_nodes = []\n",
    "\n",
    "  def append(self, question,reponses,previous_question):\n",
    "    if previous_question == self.question:\n",
    "      self.next_nodes.append(node(question,reponses))\n",
    "    else:\n",
    "      for N in self.next_nodes:\n",
    "        N.append(question,reponses,previous_question)\n",
    "\n",
    "  def delete(self,question):\n",
    "    for N in self.next_nodes:\n",
    "        if N.question == question:\n",
    "            del N # delete the node\n",
    "    else:\n",
    "        N.delete(question)\n",
    "\n",
    "\n",
    "class tree:\n",
    "  def __init__(self,first_question):\n",
    "    self.first_node = node(first_question,[])\n",
    "    self.current_node = self.first_node\n",
    "\n",
    "  def append_question(self,question,reponses,previous_question):\n",
    "    self.first_node.append(question,reponses,previous_question)\n",
    "\n",
    "  def delete_question(self,question):\n",
    "    if self.first_node.question == question:\n",
    "      self.first_node = None\n",
    "    else:\n",
    "      self.first_node.delete(question)\n",
    "\n",
    "  def get_question(self):\n",
    "    return self.current_node.question\n",
    "\n",
    "  def send_answer(self, reponse):\n",
    "    for N in self.current_node.next_nodes:\n",
    "      if N.reponses == reponse:\n",
    "        self.current_node = N\n",
    "        break\n",
    "    return self.current_node.question"
   ]
  },
  {
   "cell_type": "code",
   "execution_count": null,
   "metadata": {},
   "outputs": [],
   "source": []
  }
 ],
 "metadata": {
  "kernelspec": {
   "display_name": "Python 3",
   "language": "python",
   "name": "python3"
  },
  "language_info": {
   "codemirror_mode": {
    "name": "ipython",
    "version": 3
   },
   "file_extension": ".py",
   "mimetype": "text/x-python",
   "name": "python",
   "nbconvert_exporter": "python",
   "pygments_lexer": "ipython3",
   "version": "3.10.10"
  },
  "orig_nbformat": 4
 },
 "nbformat": 4,
 "nbformat_minor": 2
}
